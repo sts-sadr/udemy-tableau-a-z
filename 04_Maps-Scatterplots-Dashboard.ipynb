{
 "cells": [
  {
   "cell_type": "markdown",
   "metadata": {},
   "source": [
    "# Section 4"
   ]
  },
  {
   "cell_type": "markdown",
   "metadata": {},
   "source": [
    "### Lecture 20: Joining Data in Tableau\n",
    "- When you add the data, you would have to add the datasets in the blank space.\n",
    "- Tableau add together data that uses a primary key\n",
    "- You can click on the chart, and make the type of connection you would like."
   ]
  },
  {
   "cell_type": "markdown",
   "metadata": {},
   "source": [
    "### Lecture 21: Creating a Map, Working with Hierarchies\n",
    "- Sometimes it is best to remove the hierarchy and create you own from scratch.\n",
    "- How to make a hierarchy:\n",
    "    - **Click on the desired tab -> Combine it with the information of its hierarchy**\n",
    "- Then you can insert the geography, usually the highest one, like Country to the map.\n",
    "- From there, you can click on the Plus sight on the \"Country Marks,\" for a more in depth look.\n",
    "- Bottom left corner can inform you how many marks are in the graph.\n",
    "- A quick way to run a calculated field is to clikc on one of the variables you would like to work with, right click, and then click on Calculated Field\n",
    "- There are many option you can do, like check on the states or cities!"
   ]
  },
  {
   "cell_type": "markdown",
   "metadata": {},
   "source": [
    "### Lecture 22: Creating a Scatter Plot, Applying Filters to Multiple Worksheets\n",
    "- One of the things thta you must remember, is that Tableau will automatically aggregate the entire information. Thus, make to always **Analysis -> Unclick aggregate measures**\n",
    "- Or add more information to detail!\n",
    "- **RECALL: If you click on the FILTER -> Click \"Apply to Worksheets -> Click \"All Using This Data Source\"**\n",
    "    - You should see that this filter will apply to all the worksheet!\n",
    "    - The Filter will apply to all the worksheets!\n",
    "- This would even work on worksheet that are created after the filter."
   ]
  },
  {
   "cell_type": "markdown",
   "metadata": {},
   "source": [
    "### Lecture 23: Let's Create our First Dashboard!\n",
    "- The second button is Dashboard\n",
    "- Right click on the map to check information on the filter"
   ]
  },
  {
   "cell_type": "markdown",
   "metadata": {},
   "source": [
    "### Lecture 24: Adding an Interactive Action - Filter\n",
    "- If you click on one of the map, you can then decide on the filter.\n",
    "- For example, if we use the map as filter, we are then able to click on one of the cities, which will be used as filters for the scatter plot.\n",
    "- This automatically created the action\n",
    "    - If you click the edit button, you realized the detail of the action. Like the action required, either click or hover and to the graphs that this action this will be applied too.\n",
    "- The Menu option does not seem like it will be a good idea because it can me misleading!\n",
    "- You can click multiple values if you \"Command and click the additional variables\"\n",
    "- Another way to click on mult. values is by \n",
    "    - **Click on the Play Button in the Geomap -> Click on the dotted lines (any will do) -> and highlight the desired view**"
   ]
  },
  {
   "cell_type": "markdown",
   "metadata": {},
   "source": [
    "### Lecture 25: Adding an Interactive Action - Highlighting\n",
    "- Unlike the filter, highlight will highlight the desired variable and leave everything else in blank.\n",
    "- The issues can arise when you have values that is not only for that specific highlight. If you highlight France, users are making order from many countries and thus, it cannot be made to a specific user!\n",
    "- A good fix, and something that I keep on seeing, is that you add information to the detail tab!"
   ]
  }
 ],
 "metadata": {
  "kernelspec": {
   "display_name": "Python 3",
   "language": "python",
   "name": "python3"
  },
  "language_info": {
   "codemirror_mode": {
    "name": "ipython",
    "version": 3
   },
   "file_extension": ".py",
   "mimetype": "text/x-python",
   "name": "python",
   "nbconvert_exporter": "python",
   "pygments_lexer": "ipython3",
   "version": "3.6.5"
  }
 },
 "nbformat": 4,
 "nbformat_minor": 2
}
