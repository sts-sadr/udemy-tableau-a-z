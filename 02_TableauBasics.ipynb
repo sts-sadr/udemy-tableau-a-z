{
 "cells": [
  {
   "cell_type": "markdown",
   "metadata": {},
   "source": [
    "# Section 2: Tableau Basics: Your First Bar chart"
   ]
  },
  {
   "cell_type": "markdown",
   "metadata": {},
   "source": [
    "### Lecture 7: Connecting Tableau to a Data File - CSV File\n",
    "- Right click on the database symbol to check the information on the data"
   ]
  },
  {
   "cell_type": "markdown",
   "metadata": {},
   "source": [
    "### Lecture 8: Navigating Tableau\n",
    "- Dimensions: Any type of categorical values\n",
    "- Measures: Any type of numerical values\n",
    "- There is an intersting way that you can add the values. Sometimes the value does not get added to a column so it's a one dimenisional chart. But once you add it to either row or column, the dimension of it changes.\n",
    "- A lot of exploring, using the SHOW ME tab"
   ]
  },
  {
   "cell_type": "markdown",
   "metadata": {},
   "source": [
    "### Lecture 9: Creating Calculated Fields\n",
    "- **Click on a square with an X in the toolbar to clean up the sheet**\n",
    "- **Right click around the Measures Tab -> control + right click -> Create Calculated Field**. \n",
    "- In the example provided, the information is easily created. For profit, you multiply the units * units price. The calculated field calculated the information once you write the desired columns!\n"
   ]
  },
  {
   "cell_type": "markdown",
   "metadata": {},
   "source": [
    "### Lecture 10: Adding Colors\n",
    "- You must be smart in choosing which value will be used as a color.\n",
    "- In the example provided, they believed that the region will be used with color.\n",
    "- You can always change the color palette by clicking colors"
   ]
  },
  {
   "cell_type": "markdown",
   "metadata": {},
   "source": [
    "### Lecture 11: Adding Labels and Formatting\n",
    "- Ease of understanding is another thing that should be taken into account\n",
    "- Adding information using the labels. Make sure to include the colors and label.\n",
    "- To edit the information on the label, you can click on the label. Then you can edit the text.\n",
    "- If the text ever not shows\n",
    "    - **Right click the bar, or the visual -> click \"Mark Label\" -> click on \"Always shows\"**\n",
    "- There are two types of format. One would be on the text, color, label, etc. While the other would be on the specific value. You can format it by clicking on it, like SUM(TotalSales) and click format. \n",
    "- It's always best to edit the format by right click on the desired change."
   ]
  },
  {
   "cell_type": "markdown",
   "metadata": {},
   "source": [
    "### Lecture 12: Exporting Your Worksheet\n",
    "- You can screenshot your image.\n",
    "- Remember to edit your title\n",
    "    - **Worksheet -> Show Title**\n"
   ]
  }
 ],
 "metadata": {
  "kernelspec": {
   "display_name": "Python 3",
   "language": "python",
   "name": "python3"
  },
  "language_info": {
   "codemirror_mode": {
    "name": "ipython",
    "version": 3
   },
   "file_extension": ".py",
   "mimetype": "text/x-python",
   "name": "python",
   "nbconvert_exporter": "python",
   "pygments_lexer": "ipython3",
   "version": "3.6.5"
  }
 },
 "nbformat": 4,
 "nbformat_minor": 2
}
