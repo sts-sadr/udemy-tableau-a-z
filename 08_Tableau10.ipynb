{
 "cells": [
  {
   "cell_type": "markdown",
   "metadata": {},
   "source": [
    "# Section 8: What's new in Tableau 10"
   ]
  },
  {
   "cell_type": "markdown",
   "metadata": {},
   "source": [
    "### Lecture 55: Custom Territories Via Groups\n",
    "- It's a bit weird of what you are looking for when you are looking for average.\n",
    "- In the example used, they looked at the information of the average when mapping states. The average was done by looking at all the information of the cities?\n",
    "- We want to split the regions and then make the calculation from the states of that whole instead of the entire whole\n",
    "- If you want to create a group, like say of a region, you would have to highlight all the information of the location you want, from there you want to click on \n",
    "    - A hover would appear\n",
    "    - Click on a Staple like symbol\n",
    "    - Then click Group -> All Dimension!\n",
    "- Something that is confusing is what is averaging of. \n",
    "- I am pretty sure it the city because that what the location is created from."
   ]
  },
  {
   "cell_type": "markdown",
   "metadata": {},
   "source": [
    "### Lecture 56: Custom Territories Via Geographic Roles\n",
    "-  Remember that when you create a custom terroitory, like in previous lecture, you can also then used that information to be placed in the geolocation dimension!\n",
    "- This is another way to do the previous lecture!"
   ]
  },
  {
   "cell_type": "markdown",
   "metadata": {},
   "source": [
    "### Lecture 57: Adding a Highlighter\n",
    "- If you're using the cities, the bad thing can be that you might not have the information accurate! Hence, the thing is that if you continue looking for the cities, these cities can unambigious!\n",
    "- Try to add the larger geo location first.\n",
    "    - Hence, first add State then add city!\n",
    "- A way that can add two-like color is by including the Highlight feature.\n",
    "    - **First include the dimension you want to detail**\n",
    "    - **Right Click -> Click Show Highlighter**\n",
    "    - A pop up will appear!"
   ]
  },
  {
   "cell_type": "markdown",
   "metadata": {},
   "source": [
    "### Lecture 58: Clustering in Tableau\n",
    "- Remember you must always try to find ways to add a new level of granualirty!\n",
    "- There are two ways that I know of to do this\n",
    "    - First, **Click Analysis (top tabs) -> Click Aggregate Measures**\n",
    "    - Or, you can add the feature of every observation, can be name, ID, or even storeID\n",
    "- When dealing with marketing, you should be able to check the money spend, against the money revenue. Here, we might noticed some patterns, or maybe even the clusters!\n",
    "- **Click Analytics Tab (next to data) -> Under Model, click clusters!**"
   ]
  },
  {
   "cell_type": "markdown",
   "metadata": {},
   "source": [
    "### Lecture 59: Cross-Database Joins\n",
    "- You must always thnik about the business behind the data\n",
    "- Like in problem mentioned, we must understand the business model which is being a service for laundry! Hence, the service heavily relies on the population.\n",
    "- You have to bring a new dataset to check the popualtion of the states!\n",
    "- In Tabelau 10, you can create connection btw a csv file and an excel file\n",
    "- Remember that the inner join is done correctly, like in the example provided, only combining the cities is not enough because we might have many cities with the same name. MUST use the States column as well. \n",
    "- To add the new information to the clusters, we can check the information on the clusters mark and the new measure from there. \n",
    "    - **Look for the clusters tab -> Right Click -> Click Edit Clusters -> Add the new measure there**\n",
    "- When we added the population, we are now realizing that the clusters are three!\n",
    "- You can information in the tooltip or detail for it to show up in the tooltip!\n",
    "- Another important thing to look is in **Analytics Tab -> Trend Line**\n",
    "- This can create the trend line for each cluster!\n",
    "- For the bottom cluster, you are losing money because the coefficient is less than 1. \n",
    "- For the middle cluster, you are gaining 7 dollars for every 1 dollar invested in ads\n",
    "- For the middle cluster, you are gaining 3 dollars for every 1 dollar invested in ads\n"
   ]
  },
  {
   "cell_type": "markdown",
   "metadata": {
    "collapsed": true
   },
   "source": [
    "### Lecture 60: Modeling with Clusters\n",
    "- When you look at the clusters, make sure you include the highligter!\n",
    "- Understand the coefficient of the trend line of each of the clusters.\n",
    "- With the trend line, we learned something that we did not think. We know that the middle cluster has the highest potential in the future"
   ]
  },
  {
   "cell_type": "markdown",
   "metadata": {},
   "source": [
    "### Lecture 61: Saving your Clusters\n",
    "- Remember that if you want to save a clusters into your Tableau, you can just select the clusters, which is the color marks, and then put that in dimensions.\n",
    "- Using the clusters, you are then able to get a better represenatation of their meaning. We could understand it in a map or bar chart."
   ]
  },
  {
   "cell_type": "markdown",
   "metadata": {},
   "source": [
    "### Lecture 62: New Design Features\n",
    "- They wrote an article of their new color selection (WTF!) lol.\n",
    "- They also created a new font, there are 6 types of weight (not just bold)"
   ]
  },
  {
   "cell_type": "markdown",
   "metadata": {},
   "source": [
    "### Lecture 63: New Mobile Features\n",
    "- In the \"Device Preview,\" you can check on how the view will look for the device!\n",
    "- There are many features that can be viewed!\n",
    "- Autmatic looks like it will be the best view.\n",
    "- Or fixed size, the dashboard will be used for every device."
   ]
  }
 ],
 "metadata": {
  "kernelspec": {
   "display_name": "Python 3",
   "language": "python",
   "name": "python3"
  },
  "language_info": {
   "codemirror_mode": {
    "name": "ipython",
    "version": 3
   },
   "file_extension": ".py",
   "mimetype": "text/x-python",
   "name": "python",
   "nbconvert_exporter": "python",
   "pygments_lexer": "ipython3",
   "version": "3.6.5"
  }
 },
 "nbformat": 4,
 "nbformat_minor": 2
}
