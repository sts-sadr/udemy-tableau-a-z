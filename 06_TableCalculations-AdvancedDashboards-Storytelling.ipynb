{
 "cells": [
  {
   "cell_type": "markdown",
   "metadata": {},
   "source": [
    "# Section 6: Table Calculations, Advanced Dashboards, Storytelling"
   ]
  },
  {
   "cell_type": "markdown",
   "metadata": {},
   "source": [
    "### Lecture 37: Mapping: how to Set Geographical Roles\n",
    "- Be careful of how you select the region. Make sure that you know which are which. For example, I thought the data set given for this example was country when in fact it was states!\n",
    "- Even when we included the States, Tableau was not able to understand where these came from. If you click on the null values, you are then allowed to check for the specific country!\n",
    "- Another great tool is to add the color to each map by clicking on Marks -> Map"
   ]
  },
  {
   "cell_type": "markdown",
   "metadata": {},
   "source": [
    "### Lecture 38: Creating Table Calculations for Gender\n",
    "- Explaining the way you can add \"Percent of Total\""
   ]
  },
  {
   "cell_type": "markdown",
   "metadata": {},
   "source": [
    "### Lecture 39: Creating Bins and Distributions For Age\n",
    "- Understanding the difference between Dimension and Measure is vital\n",
    "- For example, when we add the measure, we are treating it as a number.\n",
    "- When used as a dimension, it's used as categorical data!\n",
    "- Make sure you create bins when the individual information is too specific.\n",
    "- Recall to use the percentage when required!"
   ]
  },
  {
   "cell_type": "markdown",
   "metadata": {},
   "source": [
    "### Lecture 40: Leveraging the Power of Parameters\n",
    "- He explains that in data exploration, the ability to explore data is very important.\n",
    "- He explains that a great way to do is with parameters.\n",
    "- One of the great way is to include the parameters in the size of the bin in this case.\n",
    "    - This will connect the parameters to the data.\n",
    "- Also, you should make sure that you click on the paramter **Show Parameter Control**\n",
    "- Like he said, this is not the only way to create parameters."
   ]
  },
  {
   "cell_type": "markdown",
   "metadata": {},
   "source": [
    "### Lecture 41: How to Create a Tree Map Chart\n",
    "- Tree map are easy to create. Just use the SHOW ME tab\n",
    "- These are rather easy to create."
   ]
  },
  {
   "cell_type": "markdown",
   "metadata": {},
   "source": [
    "### Lecture 42: Creating a Customer Segmentation Dashboard\n",
    "- Putting the graphs into a dashboard"
   ]
  },
  {
   "cell_type": "markdown",
   "metadata": {},
   "source": [
    "### Lecture 43: Advanced Dashboard Interactivity\n",
    "- Making the graphs as filters.\n",
    "- Tooltip\n",
    "    - **Go to the desired worksheet -> Click \"Worksheet\" -> Uncheck \"Show Tooltip\"**\n",
    "    - You do not even have to do it from the worksheet. You can highlight the chart from the Dashboard and work from there."
   ]
  },
  {
   "cell_type": "markdown",
   "metadata": {},
   "source": [
    "### Lecture 44: Analyzing the Customer Segmentation Dashboard\n",
    "- We are analyzing the location, to find if there are any insight on the people that are part of this bank.\n",
    "- England: there are not a lot of older people and most of the people who do work in England are white collard. Maybe it is because it is close to London?\n",
    "- Scotland: There are more people who are blue collar and the older generation lives here. Also, there are much more males than females! Also, these people are making less money.\n",
    "- Wales: The people are in between Scotland and England. They are making more money, have more white collar workers, and have more females than Scotland.\n",
    "- Ireland: A lot of females, people work in \"Other\" more, and they look like they are making more money than the general population. Also, these are a younger demographic.\n",
    "- This is a good way to customer segment to find ways to better curate to customers. You should take advantage to make the customer experience better by understanding the way customer works."
   ]
  },
  {
   "cell_type": "markdown",
   "metadata": {},
   "source": [
    "### Lecture 45: Creating a Storyline\n",
    "- You can drag worksheets and dashboard in a storyline.\n",
    "- However, you can only drag one item per page.\n",
    "- For a new page, add blank page.\n",
    "- When you are making a story, take advantage of the duplicate\n",
    "- Also, make sure you make use of the annoatation."
   ]
  }
 ],
 "metadata": {
  "kernelspec": {
   "display_name": "Python 3",
   "language": "python",
   "name": "python3"
  },
  "language_info": {
   "codemirror_mode": {
    "name": "ipython",
    "version": 3
   },
   "file_extension": ".py",
   "mimetype": "text/x-python",
   "name": "python",
   "nbconvert_exporter": "python",
   "pygments_lexer": "ipython3",
   "version": "3.6.5"
  }
 },
 "nbformat": 4,
 "nbformat_minor": 2
}
