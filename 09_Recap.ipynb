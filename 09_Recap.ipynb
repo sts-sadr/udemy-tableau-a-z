{
 "cells": [
  {
   "cell_type": "markdown",
   "metadata": {},
   "source": [
    "# Recap"
   ]
  },
  {
   "cell_type": "markdown",
   "metadata": {},
   "source": [
    "### Section 2:\n",
    "- Data: Connect to CSV file\n",
    "- Conceptual: Calc field\n",
    "- Visualization: Bar chart, colors, labels, formatting, exporting"
   ]
  },
  {
   "cell_type": "markdown",
   "metadata": {},
   "source": [
    "### Section 3:\n",
    "- Data: Connect to Excel file, Data extracts\n",
    "- Conceptual: Time series as a measure, Time series as a dimensions, aggregations, granualarity, filter, quick filter\n",
    "- Visualization: Line charts, shapes, show-me, arear charts, highlighting"
   ]
  },
  {
   "cell_type": "markdown",
   "metadata": {},
   "source": [
    "### Section 4:\n",
    "- Data: Data joins\n",
    "- Conceptual: Hierarchies, filter on multiple sheets, Dashboard: adding charts, Dashboard: quickfilter, Dashboard: filter action, Dashboard: highlighting actions\n",
    "- Visualization: Maps, circles on a map, scatterplot, Dashboard: layout"
   ]
  },
  {
   "cell_type": "markdown",
   "metadata": {},
   "source": [
    "### Section 5:\n",
    "- Data: Join theory, blending data, joining vs blending \n",
    "- Conceptual: Calc field in a blend\n",
    "- Visualization: Dual axis charting"
   ]
  },
  {
   "cell_type": "markdown",
   "metadata": {},
   "source": [
    "### Section 6:\n",
    "- Data: \n",
    "- Conceptual: Geographic role, table calculations, bins, parameters\n",
    "- Visualization: Filled map, pie chart, distributions, treemap, storyline"
   ]
  },
  {
   "cell_type": "markdown",
   "metadata": {},
   "source": [
    "### Section 7:\n",
    "- Data: Data intepreter, pivot, splitting columns, metadata grid, fixed map errors \n",
    "- Conceptual: \n",
    "- Visualization: "
   ]
  }
 ],
 "metadata": {
  "kernelspec": {
   "display_name": "Python 3",
   "language": "python",
   "name": "python3"
  },
  "language_info": {
   "codemirror_mode": {
    "name": "ipython",
    "version": 3
   },
   "file_extension": ".py",
   "mimetype": "text/x-python",
   "name": "python",
   "nbconvert_exporter": "python",
   "pygments_lexer": "ipython3",
   "version": "3.6.0"
  }
 },
 "nbformat": 4,
 "nbformat_minor": 2
}
