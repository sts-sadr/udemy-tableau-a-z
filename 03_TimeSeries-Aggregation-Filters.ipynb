{
 "cells": [
  {
   "cell_type": "markdown",
   "metadata": {},
   "source": [
    "# Section 3"
   ]
  },
  {
   "cell_type": "markdown",
   "metadata": {},
   "source": [
    "### Lecture 14: Working with Data Extracts  Datasets \n",
    "- Information on **Extract** cannot be used in Tableau Public.\n",
    "- Using the Live version can sometimes be pretty slow when the datasets get larger or dynamic."
   ]
  },
  {
   "cell_type": "markdown",
   "metadata": {},
   "source": [
    "### Lecture 15: Working with Time Series\n",
    "- There are two types of dates:\n",
    "    - The first one aggregates it to the date. For example, it will add all the data of January, Febuary, ... all together. Is not good fot data series. Hence, it is treating the months as categorical data!\n",
    "    - The second uses each month separate! It's a measures!\n",
    "- Tableau always highlights Dimension in blue!\n",
    "- Tableau always highlights Measures in green!\n"
   ]
  },
  {
   "cell_type": "markdown",
   "metadata": {},
   "source": [
    "### Lecture 16: Understanding Aggregation, Granularity, and Level of Detail\n",
    "- **On the top, click \"Analysis\" -> Click \"Aggregate Measures\"**\n",
    "    - This will help you understand the way that Tableau adds the column\n",
    "    - If you unselect \"Aggregate Measures,\" Tableau will just plot every single point\n",
    "- Make use of the \"MARKS,\" because they can provide more detail to the graphs\n",
    "- The detail tab in the mark is still a bit unclear"
   ]
  },
  {
   "cell_type": "markdown",
   "metadata": {},
   "source": [
    "### Lecture 17: Creating an Area Chart & Learning About Highlighting\n",
    "-  Detail is able to create a more indepth view of your specific dimension. When you click on one of them visuals, the information in detail, will be added to it.\n",
    "- When the information is only added to detail, nothing will be able to distinguish it in the graph.\n",
    "- Make sure to include the detail into some kind of visual marks, like labels.\n",
    "- IF THE highlight does not work, you have to click on the highlighted mark on the Key tab for the desired variable.\n",
    "- Another good chart is the area chart!"
   ]
  },
  {
   "cell_type": "markdown",
   "metadata": {},
   "source": [
    "### Lecture 18: Adding a Filter and Quick Filter\n",
    "- You can add it to the Filter tab. Simple enough.\n",
    "- You can use exclude.\n",
    "- But the method of adding it to the filter tab can be tedious. A better way is to use Quick Filter.\n",
    "- **Insert desired Dimensions to Filters -> Right Click the Filter -> Click \"Show Filter\"**\n",
    "- There are many kind of Filters\n",
    "    - On the tab that opened after Show Filters\n",
    "        - **Click on the down arrow, and there would be additional options**\n",
    "    - The Dropdown option is the same but it looks more conventient.\n",
    "    - Single Value VS Multiple Values\n",
    "        - The single value only gives you the option to click on one of the items\n",
    "        - The multiple values gives options to click on many items"
   ]
  }
 ],
 "metadata": {
  "kernelspec": {
   "display_name": "Python 3",
   "language": "python",
   "name": "python3"
  },
  "language_info": {
   "codemirror_mode": {
    "name": "ipython",
    "version": 3
   },
   "file_extension": ".py",
   "mimetype": "text/x-python",
   "name": "python",
   "nbconvert_exporter": "python",
   "pygments_lexer": "ipython3",
   "version": "3.6.0"
  }
 },
 "nbformat": 4,
 "nbformat_minor": 2
}
