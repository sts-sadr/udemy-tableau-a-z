{
 "cells": [
  {
   "cell_type": "markdown",
   "metadata": {},
   "source": [
    "# Section 5: Joining and Blending Data"
   ]
  },
  {
   "cell_type": "markdown",
   "metadata": {},
   "source": [
    "### Lecture 27: Understanding how LEFT, RIGHT, INNER, and OUTER Joins Work\n",
    "- Inner Join: Must be connected in both tables\n",
    "- Left Outer Join / Right Outer Join: Which ever the side of the join is, well it'll will get all values of the indicated side. From the oppposite side, it will only get it if its connected to the opposite table!"
   ]
  },
  {
   "cell_type": "markdown",
   "metadata": {},
   "source": [
    "### Lecture 28: Joins With Duplicate Values\n",
    "- If one table has less values than the other, which should happen, it will duplicate the rows and append the uniqye values to each table!"
   ]
  },
  {
   "cell_type": "markdown",
   "metadata": {},
   "source": [
    "### Lecture 29: Joining on Multiple Values\n",
    "- Sometimes you have to add multiple values because like in the exmaple provided, we might not be able to differentiate between the location!"
   ]
  },
  {
   "cell_type": "markdown",
   "metadata": {},
   "source": [
    "### Lecture 30: The Showdown: Joining Data v.s. Blending Data in Tableau\n",
    "- Make sure that you understand the way the we combine data if we are using more than two tables. Try to use to columns to combine data!\n",
    "- But this type of combining data isn't optimal performing in the blank sheet we looked at.\n",
    "- A better way is to use \"BLEND\"\n",
    "    - Create one of the inner join between two different tables!\n",
    "    - Then you add a new data source (command + D).\n",
    "    - From there, you add the new information of the table that has not yet been added.\n",
    "- Another reason to use a BLEND, is when you have different data sources.\n",
    "- The first reason is when they are different levels of granualarity."
   ]
  },
  {
   "cell_type": "markdown",
   "metadata": {},
   "source": [
    "### Lecture 31: Data Blending in Tableau\n",
    "- It is often underestimated and not used as much as it should!\n",
    "- When you have multiple values in Tableau, you can click on one of the data sources through the icon in the top.\n",
    "- Once you try to insert one of the data sources into the graph, a red link icon will appear. This means that Tableau is ready to make a data blend!\n",
    "- It is a bit complicated.\n",
    "- After you connect two data table in one, you are able to create relationship that occur automatically.\n",
    "- If we you want a more in depth look at the \n",
    "    - **DATA -> Edit Relationships -> Click Add -> the relationship you want to be added**\n",
    "- Tableau will only pick connection if they have the same name!\n",
    "- NOT if they have different names even if they have the same concept!\n",
    "- ROWS are where the connection being added in the example.\n",
    "- The blue mark is the primary table.\n",
    "- The orange mark is the secondary table. "
   ]
  },
  {
   "cell_type": "markdown",
   "metadata": {},
   "source": [
    "### Lecture 32: Dual Axis Chart\n",
    "- When you are trying to combine different datasets, you have to make sure that the data is being combined on two columns and not just one.\n",
    "- When you create new connection, you have to the new connections from each of the datasets that you would like for there to be a connection. \n",
    "- When dealing with dates, you cannot only include information on the month but year as well!\n",
    "- When you look at the graph, you now have two different graphs that show the actual sales versus that desired sales!\n",
    "- To create a DUAL AXIS\n",
    "    - **Control + Left Click -> Click on Dual Axis**\n",
    "    - Then **Control + Left Click on the right axis for Target -> Click Synochronize Axis** so both axis can be the same measure!"
   ]
  },
  {
   "cell_type": "markdown",
   "metadata": {},
   "source": [
    "### Lecture 33: Creating Calculated Fields in a Blend\n",
    "- Make use of the detail. I seen a lot of cases where putting dimensions into detail can be a better option than adding it to the columns!\n",
    "- Remember, because you keep forgetting, to choose the marks which graph you would like to work on.\n",
    "- If you want info. on a specific dimension without adding color, you msut add the it to detail!"
   ]
  }
 ],
 "metadata": {
  "kernelspec": {
   "display_name": "Python 3",
   "language": "python",
   "name": "python3"
  },
  "language_info": {
   "codemirror_mode": {
    "name": "ipython",
    "version": 3
   },
   "file_extension": ".py",
   "mimetype": "text/x-python",
   "name": "python",
   "nbconvert_exporter": "python",
   "pygments_lexer": "ipython3",
   "version": "3.6.5"
  }
 },
 "nbformat": 4,
 "nbformat_minor": 2
}
