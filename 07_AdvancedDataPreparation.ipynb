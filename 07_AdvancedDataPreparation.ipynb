{
 "cells": [
  {
   "cell_type": "markdown",
   "metadata": {},
   "source": [
    "# Lecture 7: Advanced Data Preparation"
   ]
  },
  {
   "cell_type": "markdown",
   "metadata": {},
   "source": [
    "### Section 48: Data Interpreter\n",
    "- You somestimes have too many rows that you do not need.\n",
    "- Make sure that you check for hidden rows.\n",
    "- One of the thing using the data intepreter is that it will not be pefect. Hence, you should use it and then check it again if we can make some addtional edits in Excel to make some better fixes!"
   ]
  },
  {
   "cell_type": "markdown",
   "metadata": {},
   "source": [
    "### Section 49: Pivot\n",
    "- You should have noticed that there are years in the columns. This is almost never the case and it should be fixed by making a columb with years and have the individual year be in the data.\n",
    "- If you highlight the years, or any case that can be better represented as years, can be highlighted in the table in Tableau and then you click \"Pivot\".\n",
    "- "
   ]
  },
  {
   "cell_type": "markdown",
   "metadata": {},
   "source": [
    "### Lecture 50: Splitting a Column into Multiple Columns\n",
    "- If you click on the arrow in the column in the table, you can click on split.\n",
    "- From there, you can decide how to split and what.\n",
    "- It might be that you need the last word or the first word, hence, you will make the adjustment and split the data"
   ]
  },
  {
   "cell_type": "markdown",
   "metadata": {},
   "source": [
    "### Lecture 51: MetaData Grid\n",
    "- MetaData simply means looking at the columns\n",
    "- The way to this can be through looking the table icon at right corner of the table\n",
    "- Good way to edit the column, rather than looking at the entire table."
   ]
  },
  {
   "cell_type": "markdown",
   "metadata": {},
   "source": [
    "### Lecture 52: Fixing Geographical Data Errors in Tableau\n",
    "- He recommends that when you see data that is null, to not trust the \"Show data at default position\"\n",
    "- When the data is a bit unclear, you should first try to check the data and leave it our at the beginning. Again, make sure that if you are looking for cities, the the cities are looking in the correct state.\n",
    "- Also, this should done at the beginning!"
   ]
  }
 ],
 "metadata": {
  "kernelspec": {
   "display_name": "Python 3",
   "language": "python",
   "name": "python3"
  },
  "language_info": {
   "codemirror_mode": {
    "name": "ipython",
    "version": 3
   },
   "file_extension": ".py",
   "mimetype": "text/x-python",
   "name": "python",
   "nbconvert_exporter": "python",
   "pygments_lexer": "ipython3",
   "version": "3.6.5"
  }
 },
 "nbformat": 4,
 "nbformat_minor": 2
}
